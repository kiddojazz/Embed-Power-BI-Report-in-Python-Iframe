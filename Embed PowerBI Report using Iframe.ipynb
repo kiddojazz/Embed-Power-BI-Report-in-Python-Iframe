{
 "cells": [
  {
   "cell_type": "code",
   "execution_count": 4,
   "id": "2ea6c7fc",
   "metadata": {},
   "outputs": [],
   "source": [
    "from IPython.display import IFrame"
   ]
  },
  {
   "cell_type": "code",
   "execution_count": 5,
   "id": "562a9fa1",
   "metadata": {},
   "outputs": [],
   "source": [
    "Dashboard = IFrame(src=\"https://app.powerbi.com/view?r=eyJrIjoiYWJiODdhNWMtNWJjYy00YjIyLWEzYjEtNzVmMWQ4M2ZlNjYwIiwidCI6ImRhNDQ5YjJmLTczMjMtNDI4My1iZTFiLWQ5NTc4YTU2ODQ0YyJ9&pageName=ReportSection5afaa3dac70134a2a90c\", width = 1000, height = 600)"
   ]
  },
  {
   "cell_type": "code",
   "execution_count": 6,
   "id": "5a2c5645",
   "metadata": {},
   "outputs": [
    {
     "data": {
      "text/html": [
       "\n",
       "        <iframe\n",
       "            width=\"1000\"\n",
       "            height=\"600\"\n",
       "            src=\"https://app.powerbi.com/view?r=eyJrIjoiYWJiODdhNWMtNWJjYy00YjIyLWEzYjEtNzVmMWQ4M2ZlNjYwIiwidCI6ImRhNDQ5YjJmLTczMjMtNDI4My1iZTFiLWQ5NTc4YTU2ODQ0YyJ9&pageName=ReportSection5afaa3dac70134a2a90c\"\n",
       "            frameborder=\"0\"\n",
       "            allowfullscreen\n",
       "            \n",
       "        ></iframe>\n",
       "        "
      ],
      "text/plain": [
       "<IPython.lib.display.IFrame at 0x1bb23a90cd0>"
      ]
     },
     "metadata": {},
     "output_type": "display_data"
    }
   ],
   "source": [
    "display(Dashboard)"
   ]
  },
  {
   "cell_type": "code",
   "execution_count": null,
   "id": "ead1c9f1",
   "metadata": {},
   "outputs": [],
   "source": []
  }
 ],
 "metadata": {
  "kernelspec": {
   "display_name": "Python 3 (ipykernel)",
   "language": "python",
   "name": "python3"
  },
  "language_info": {
   "codemirror_mode": {
    "name": "ipython",
    "version": 3
   },
   "file_extension": ".py",
   "mimetype": "text/x-python",
   "name": "python",
   "nbconvert_exporter": "python",
   "pygments_lexer": "ipython3",
   "version": "3.10.4"
  }
 },
 "nbformat": 4,
 "nbformat_minor": 5
}
